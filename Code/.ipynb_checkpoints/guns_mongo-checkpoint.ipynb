{
 "cells": [
  {
   "cell_type": "markdown",
   "metadata": {},
   "source": [
    "## Transforming Data for Mongo DB\n",
    "\n",
    "This notebook loads csv files of data previously cleaned and loads them to Mongo DB and transforms them to JSON.\n",
    "\n",
    "* cities - information on the income and poverty levels by city with associated lat and long\n",
    "* guns - information on the gun violence\n",
    "---\n"
   ]
  },
  {
   "cell_type": "code",
   "execution_count": 1,
   "metadata": {},
   "outputs": [],
   "source": [
    "import pandas as pd \n",
    "import os\n",
    "import numpy as np\n",
    "\n",
    "import pymongo\n",
    "import json\n",
    "\n",
    "import requests\n",
    "\n",
    "\n",
    "# function to save dataframe to collection_name in MongoDB 'wines'    \n",
    "def saveMongo(df, collection_name, replace=False):\n",
    "    mng_client = pymongo.MongoClient('localhost', 27017)\n",
    "    mng_db = mng_client['guns'] \n",
    "    if replace:\n",
    "        mng_db[collection_name].drop() \n",
    "    db_cm = mng_db[collection_name]\n",
    "    data = df\n",
    "    data_json = json.loads(data.to_json(orient='records', date_unit='ns'))\n",
    "    #db_cm.delete_many()\n",
    "    db_cm.insert_many(data_json)\n",
    "    \n"
   ]
  },
  {
   "cell_type": "markdown",
   "metadata": {},
   "source": [
    "## Load csv files into pandas dataframes, clean, save to mongo db"
   ]
  },
  {
   "cell_type": "code",
   "execution_count": 2,
   "metadata": {},
   "outputs": [],
   "source": [
    "# read in cities data\n",
    "cities_path = os.path.join(\"..\",\"Data\",\"Cities.csv\")\n",
    "\n",
    "df_cities = pd.read_csv(cities_path, encoding=\"UTF-8\")\n",
    "df_cities.head()\n",
    "\n",
    "# # save to/replace collection \"cities\" in \"guns\" mongo db\n",
    "saveMongo(df_cities, \"cities\", replace=True)\n"
   ]
  },
  {
   "cell_type": "code",
   "execution_count": 3,
   "metadata": {},
   "outputs": [],
   "source": [
    "# read in state data\n",
    "states_path = os.path.join(\"..\",\"Data\",\"States.csv\")\n",
    "\n",
    "df_states = pd.read_csv(states_path, encoding=\"UTF-8\")\n",
    "df_states = df_states[[\"state\",\"census_2010\",\"pop_estimate_2015\",\"2015_median_income\", \"age18longgunpossess\",\"age21longgunpossess\",\"assault\",\"mentalhealth\",\"universal\"]]\n",
    "\n",
    "df_states.head()\n",
    "\n",
    "\n",
    "# # save to/replace collection \"states\" in \"guns\" mongo db\n",
    "saveMongo(df_states, \"states\", replace=True)"
   ]
  },
  {
   "cell_type": "code",
   "execution_count": 8,
   "metadata": {},
   "outputs": [],
   "source": [
    "# Loading gun violence\n",
    "guns_path = os.path.join(\"..\",\"Data\",\"Shootings_2015.csv\")\n",
    "\n",
    "df_guns = pd.read_csv(guns_path, encoding=\"UTF-8\")\n",
    "df_guns = df_guns[[\"incident_id\",\"date\",\"state\",\"city_or_county\",\"n_killed\",\"n_injured\",\"incident_characteristics\",\"latitude\",\"longitude\",\"mass\",\"gang\",\"domestic\",\"non-shooting\",\"accidental\",\"prohibited\",\"officer\"]]\n",
    "df_guns[\"n_involved\"] = df_guns[\"n_killed\"]+df_guns[\"n_injured\"]\n",
    "df_guns[\"year\"]= df_guns[\"date\"].str[:4]\n",
    "\n",
    "# Create a column to record type of shooting\n",
    "conditions = [\n",
    "    (df_guns[\"mass\"]==1),\n",
    "    (df_guns[\"n_involved\"] == 0),\n",
    "    (df_guns[\"n_killed\"]==0)]\n",
    "choices = [\"mass shooting\", \"no injuries\",\"injuries only\"]\n",
    "df_guns[\"shoot_type\"] = np.select(conditions, choices, default=\"some dead\")\n",
    "\n",
    "df_guns.head()\n",
    "\n",
    "# Add in state level data for filtering purposes\n",
    "df_guns_complete = pd.merge(df_guns, df_states, on=\"state\", how=\"left\")\n",
    "df_guns_complete.head()\n",
    "\n",
    "# save to/replace collection \"guns\" in \"guns\" mongo db\n",
    "saveMongo(df_guns_complete, \"guns\", replace=True)\n"
   ]
  },
  {
   "cell_type": "code",
   "execution_count": null,
   "metadata": {},
   "outputs": [],
   "source": []
  }
 ],
 "metadata": {
  "kernelspec": {
   "display_name": "Python 3",
   "language": "python",
   "name": "python3"
  },
  "language_info": {
   "codemirror_mode": {
    "name": "ipython",
    "version": 3
   },
   "file_extension": ".py",
   "mimetype": "text/x-python",
   "name": "python",
   "nbconvert_exporter": "python",
   "pygments_lexer": "ipython3",
   "version": "3.7.1"
  }
 },
 "nbformat": 4,
 "nbformat_minor": 2
}
