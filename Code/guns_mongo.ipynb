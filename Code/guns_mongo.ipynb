{
 "cells": [
  {
   "cell_type": "markdown",
   "metadata": {},
   "source": [
    "## Transforming Data for Mongo DB\n",
    "\n",
    "This notebook loads csv files of data previously cleaned and loads them to Mongo DB and transforms them to JSON.\n",
    "\n",
    "* cities - information on the income and poverty levels by city with associated lat and long\n",
    "* guns - information on the gun violence\n",
    "---\n"
   ]
  },
  {
   "cell_type": "code",
   "execution_count": 1,
   "metadata": {},
   "outputs": [],
   "source": [
    "import pandas as pd \n",
    "import os\n",
    "import numpy as np\n",
    "\n",
    "import pymongo\n",
    "import json\n",
    "\n",
    "import requests\n",
    "\n",
    "\n",
    "# function to save dataframe to collection_name in MongoDB 'wines'    \n",
    "def saveMongo(df, collection_name, replace=False):\n",
    "    mng_client = pymongo.MongoClient('localhost', 27017)\n",
    "    mng_db = mng_client['guns'] \n",
    "    if replace:\n",
    "        mng_db[collection_name].drop() \n",
    "    db_cm = mng_db[collection_name]\n",
    "    data = df\n",
    "    data_json = json.loads(data.to_json(orient='records', date_unit='ns'))\n",
    "    #db_cm.delete_many()\n",
    "    db_cm.insert_many(data_json)\n",
    "    \n"
   ]
  },
  {
   "cell_type": "markdown",
   "metadata": {},
   "source": [
    "## Load csv files into pandas dataframes, clean, save to mongo db"
   ]
  },
  {
   "cell_type": "code",
   "execution_count": 2,
   "metadata": {},
   "outputs": [],
   "source": [
    "# read in main wine scrape csv, 2019 US wines from Wine Magazine web site, save to collection \"winesall\"\n",
    "cities_path = os.path.join(\"..\",\"Data\",\"Cities.csv\")\n",
    "\n",
    "df_cities = pd.read_csv(cities_path, encoding=\"UTF-8\")\n",
    "df_cities.head()\n",
    "\n",
    "# # save to/replace collection \"cities\" in \"guns\" mongo db\n",
    "saveMongo(df_cities, \"cities\", replace=True)\n"
   ]
  },
  {
   "cell_type": "code",
   "execution_count": 3,
   "metadata": {},
   "outputs": [],
   "source": [
    "# Loading gun violence\n",
    "guns_path = os.path.join(\"..\",\"Data\",\"Shootings_2015.csv\")\n",
    "\n",
    "df_guns = pd.read_csv(guns_path, encoding=\"UTF-8\")\n",
    "\n",
    "df_guns.head()\n",
    "\n",
    "# save to/replace collection \"cities\" in \"guns\" mongo db\n",
    "saveMongo(df_guns, \"guns\", replace=True)\n"
   ]
  },
  {
   "cell_type": "code",
   "execution_count": 4,
   "metadata": {},
   "outputs": [],
   "source": [
    "# read in main wine scrape csv, 2019 US wines from Wine Magazine web site, save to collection \"winesall\"\n",
    "states_path = os.path.join(\"..\",\"Data\",\"States.csv\")\n",
    "\n",
    "df_states = pd.read_csv(states_path, encoding=\"UTF-8\")\n",
    "df_states.head()\n",
    "\n",
    "# # save to/replace collection \"cities\" in \"guns\" mongo db\n",
    "saveMongo(df_states, \"states\", replace=True)"
   ]
  }
 ],
 "metadata": {
  "kernelspec": {
   "display_name": "Python 3",
   "language": "python",
   "name": "python3"
  },
  "language_info": {
   "codemirror_mode": {
    "name": "ipython",
    "version": 3
   },
   "file_extension": ".py",
   "mimetype": "text/x-python",
   "name": "python",
   "nbconvert_exporter": "python",
   "pygments_lexer": "ipython3",
   "version": "3.7.1"
  }
 },
 "nbformat": 4,
 "nbformat_minor": 2
}
